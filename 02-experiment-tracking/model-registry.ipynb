{
 "cells": [
  {
   "cell_type": "code",
   "execution_count": 1,
   "metadata": {},
   "outputs": [],
   "source": [
    "import mlflow\n",
    "from mlflow.tracking import MlflowClient\n",
    "from mlflow.entities import ViewType\n",
    "\n",
    "from datetime import datetime\n",
    "\n",
    "import pickle\n",
    "from sklearn.metrics import accuracy_score\n",
    "import pandas as pd"
   ]
  },
  {
   "cell_type": "code",
   "execution_count": 2,
   "metadata": {},
   "outputs": [
    {
     "data": {
      "text/plain": [
       "[<Experiment: artifact_location='/workspaces/mlops_zoomcamp_project/02-experiment-tracking/mlruns/2', creation_time=1720022487068, experiment_id='2', last_update_time=1720022487068, lifecycle_stage='active', name='mlops_zoomcamp_experiment', tags={}>,\n",
       " <Experiment: artifact_location='/workspaces/mlops_zoomcamp_project/02-experiment-tracking/mlruns/1', creation_time=1720020560374, experiment_id='1', last_update_time=1720020560374, lifecycle_stage='active', name='student_performance-experiment', tags={}>,\n",
       " <Experiment: artifact_location='/workspaces/mlops_zoomcamp_project/02-experiment-tracking/mlruns/0', creation_time=1720020560347, experiment_id='0', last_update_time=1720020560347, lifecycle_stage='active', name='Default', tags={}>]"
      ]
     },
     "execution_count": 2,
     "metadata": {},
     "output_type": "execute_result"
    }
   ],
   "source": [
    "MLFLOW_TRACKING_URI = \"sqlite:///mlflow.db\"\n",
    "client = MlflowClient(tracking_uri=MLFLOW_TRACKING_URI)\n",
    "\n",
    "client.search_experiments()"
   ]
  },
  {
   "cell_type": "code",
   "execution_count": 7,
   "metadata": {},
   "outputs": [
    {
     "name": "stdout",
     "output_type": "stream",
     "text": [
      "run id: e6b8b8c4e9864995ac5be24d398a6ec4, test_accuracy: 0.7453\n",
      "run id: d41515113bce483e85759ee94d6c0b51, test_accuracy: 0.7453\n",
      "run id: 4528febfbe6943a5b35f42785f292325, test_accuracy: 0.7328\n",
      "run id: 0f1a32ee243948dbbc79596c0318307c, test_accuracy: 0.6973\n"
     ]
    }
   ],
   "source": [
    "runs = client.search_runs(\n",
    "    experiment_ids='2',\n",
    "    filter_string=\"metrics.test_accuracy > 0.69\",\n",
    "    run_view_type=ViewType.ACTIVE_ONLY,\n",
    "    max_results=5,\n",
    "    order_by=[\"metrics.test_accuracy DESC\"]\n",
    ")\n",
    "\n",
    "\n",
    "for run in runs:\n",
    "    print(f\"run id: {run.info.run_id}, test_accuracy: {run.data.metrics['test_accuracy']:.4f}\")"
   ]
  },
  {
   "cell_type": "code",
   "execution_count": 11,
   "metadata": {},
   "outputs": [
    {
     "name": "stderr",
     "output_type": "stream",
     "text": [
      "Successfully registered model 'mlops-zoomcamp-registry'.\n",
      "Created version '1' of model 'mlops-zoomcamp-registry'.\n",
      "Registered model 'mlops-zoomcamp-registry' already exists. Creating a new version of this model...\n",
      "Created version '2' of model 'mlops-zoomcamp-registry'.\n",
      "Registered model 'mlops-zoomcamp-registry' already exists. Creating a new version of this model...\n",
      "Created version '3' of model 'mlops-zoomcamp-registry'.\n",
      "Registered model 'mlops-zoomcamp-registry' already exists. Creating a new version of this model...\n",
      "Created version '4' of model 'mlops-zoomcamp-registry'.\n"
     ]
    }
   ],
   "source": [
    "mlflow.set_tracking_uri(MLFLOW_TRACKING_URI)\n",
    "\n",
    "for run in runs[::-1]:\n",
    "    run_id = run.info.run_id\n",
    "    model_uri = f\"runs:/{run_id}/model\"\n",
    "    mlflow.register_model(model_uri=model_uri, name=\"mlops-zoomcamp-registry\")"
   ]
  },
  {
   "cell_type": "code",
   "execution_count": 13,
   "metadata": {},
   "outputs": [
    {
     "name": "stderr",
     "output_type": "stream",
     "text": [
      "/tmp/ipykernel_33889/601725576.py:3: FutureWarning: ``mlflow.tracking.client.MlflowClient.transition_model_version_stage`` is deprecated since 2.9.0. Model registry stages will be removed in a future major release. To learn more about the deprecation of model registry stages, see our migration guide here: https://mlflow.org/docs/latest/model-registry.html#migrating-from-stages\n",
      "  client.transition_model_version_stage(\n"
     ]
    },
    {
     "data": {
      "text/plain": [
       "<ModelVersion: aliases=[], creation_timestamp=1720023150511, current_stage='Archived', description=None, last_updated_timestamp=1720023188429, name='mlops-zoomcamp-registry', run_id='0f1a32ee243948dbbc79596c0318307c', run_link=None, source='/workspaces/mlops_zoomcamp_project/02-experiment-tracking/mlruns/2/0f1a32ee243948dbbc79596c0318307c/artifacts/model', status='READY', status_message=None, tags={}, user_id=None, version=1>"
      ]
     },
     "execution_count": 13,
     "metadata": {},
     "output_type": "execute_result"
    }
   ],
   "source": [
    "model_version = 1\n",
    "new_stage = \"Archived\"\n",
    "client.transition_model_version_stage(\n",
    "    name=model_name,\n",
    "    version=model_version,\n",
    "    stage=new_stage,\n",
    "    archive_existing_versions=False\n",
    ")"
   ]
  },
  {
   "cell_type": "code",
   "execution_count": 14,
   "metadata": {},
   "outputs": [
    {
     "name": "stderr",
     "output_type": "stream",
     "text": [
      "/tmp/ipykernel_33889/3423046592.py:3: FutureWarning: ``mlflow.tracking.client.MlflowClient.transition_model_version_stage`` is deprecated since 2.9.0. Model registry stages will be removed in a future major release. To learn more about the deprecation of model registry stages, see our migration guide here: https://mlflow.org/docs/latest/model-registry.html#migrating-from-stages\n",
      "  client.transition_model_version_stage(\n"
     ]
    },
    {
     "data": {
      "text/plain": [
       "<ModelVersion: aliases=[], creation_timestamp=1720023150548, current_stage='None', description=None, last_updated_timestamp=1720023206363, name='mlops-zoomcamp-registry', run_id='4528febfbe6943a5b35f42785f292325', run_link=None, source='/workspaces/mlops_zoomcamp_project/02-experiment-tracking/mlruns/2/4528febfbe6943a5b35f42785f292325/artifacts/model', status='READY', status_message=None, tags={}, user_id=None, version=2>"
      ]
     },
     "execution_count": 14,
     "metadata": {},
     "output_type": "execute_result"
    }
   ],
   "source": [
    "model_version = 2\n",
    "new_stage = \"None\"\n",
    "client.transition_model_version_stage(\n",
    "    name=model_name,\n",
    "    version=model_version,\n",
    "    stage=new_stage,\n",
    "    archive_existing_versions=False\n",
    ")"
   ]
  },
  {
   "cell_type": "code",
   "execution_count": 20,
   "metadata": {},
   "outputs": [
    {
     "name": "stderr",
     "output_type": "stream",
     "text": [
      "/tmp/ipykernel_33889/3063246248.py:3: FutureWarning: ``mlflow.tracking.client.MlflowClient.transition_model_version_stage`` is deprecated since 2.9.0. Model registry stages will be removed in a future major release. To learn more about the deprecation of model registry stages, see our migration guide here: https://mlflow.org/docs/latest/model-registry.html#migrating-from-stages\n",
      "  client.transition_model_version_stage(\n"
     ]
    }
   ],
   "source": [
    "new_stage = \"Staging\"\n",
    "for model_version in [3,4]:\n",
    "    client.transition_model_version_stage(\n",
    "        name=model_name,\n",
    "        version=model_version,\n",
    "        stage=new_stage,\n",
    "        archive_existing_versions=False\n",
    "    )"
   ]
  },
  {
   "cell_type": "code",
   "execution_count": 21,
   "metadata": {},
   "outputs": [],
   "source": [
    "date = datetime.today().date()\n",
    "new_stage = \"Staging\"\n",
    "for model_version in [3,4]:\n",
    "    client.update_model_version(\n",
    "        name=model_name,\n",
    "        version=model_version,\n",
    "        description=f\"The model version {model_version} was transitioned to {new_stage} on {date}\"\n",
    "    )"
   ]
  },
  {
   "cell_type": "code",
   "execution_count": 22,
   "metadata": {},
   "outputs": [
    {
     "name": "stdout",
     "output_type": "stream",
     "text": [
      "version: 1, stage: Archived\n",
      "version: 2, stage: None\n",
      "version: 4, stage: Staging\n"
     ]
    },
    {
     "name": "stderr",
     "output_type": "stream",
     "text": [
      "/tmp/ipykernel_33889/2309309639.py:2: FutureWarning: ``mlflow.tracking.client.MlflowClient.get_latest_versions`` is deprecated since 2.9.0. Model registry stages will be removed in a future major release. To learn more about the deprecation of model registry stages, see our migration guide here: https://mlflow.org/docs/latest/model-registry.html#migrating-from-stages\n",
      "  latest_versions = client.get_latest_versions(name=model_name)\n"
     ]
    }
   ],
   "source": [
    "model_name = \"mlops-zoomcamp-registry\"\n",
    "latest_versions = client.get_latest_versions(name=model_name)\n",
    "\n",
    "for version in latest_versions:\n",
    "    print(f\"version: {version.version}, stage: {version.current_stage}\")"
   ]
  },
  {
   "cell_type": "code",
   "execution_count": 24,
   "metadata": {},
   "outputs": [
    {
     "name": "stdout",
     "output_type": "stream",
     "text": [
      "mlflow.pyfunc.loaded_model:\n",
      "  artifact_path: model\n",
      "  flavor: mlflow.sklearn\n",
      "  run_id: e6b8b8c4e9864995ac5be24d398a6ec4\n",
      "\n",
      "{'train_accuracy': 0.7684265551489806}\n",
      "{'test_accuracy': 0.7453027139874739}\n"
     ]
    }
   ],
   "source": [
    "# load data\n",
    "with open(\"/workspaces/mlops_zoomcamp_project/dumps/misc/preprocessed_data.pkl\", \"rb\") as f:\n",
    "    X_train, X_test, y_train, y_test = pickle.load(f)\n",
    "\n",
    "# load model\n",
    "model_version = 4\n",
    "model = mlflow.pyfunc.load_model(f\"models:/{model_name}/{model_version}\")\n",
    "y_train_pred = model.predict(X_train)\n",
    "y_test_pred = model.predict(X_test)\n",
    "\n",
    "print(model)\n",
    "print({\"train_accuracy\": accuracy_score(y_train.values, y_train_pred)})\n",
    "print({\"test_accuracy\": accuracy_score(y_test.values, y_test_pred)})"
   ]
  },
  {
   "cell_type": "code",
   "execution_count": 25,
   "metadata": {},
   "outputs": [
    {
     "name": "stderr",
     "output_type": "stream",
     "text": [
      "/tmp/ipykernel_33889/3194717379.py:3: FutureWarning: ``mlflow.tracking.client.MlflowClient.transition_model_version_stage`` is deprecated since 2.9.0. Model registry stages will be removed in a future major release. To learn more about the deprecation of model registry stages, see our migration guide here: https://mlflow.org/docs/latest/model-registry.html#migrating-from-stages\n",
      "  client.transition_model_version_stage(\n"
     ]
    },
    {
     "data": {
      "text/plain": [
       "<ModelVersion: aliases=[], creation_timestamp=1720023150631, current_stage='Production', description='The model version 4 was transitioned to Production on 2024-07-03', last_updated_timestamp=1720023433040, name='mlops-zoomcamp-registry', run_id='e6b8b8c4e9864995ac5be24d398a6ec4', run_link=None, source='/workspaces/mlops_zoomcamp_project/02-experiment-tracking/mlruns/2/e6b8b8c4e9864995ac5be24d398a6ec4/artifacts/model', status='READY', status_message=None, tags={}, user_id=None, version=4>"
      ]
     },
     "execution_count": 25,
     "metadata": {},
     "output_type": "execute_result"
    }
   ],
   "source": [
    "model_version = 4\n",
    "new_stage = \"Production\"\n",
    "client.transition_model_version_stage(\n",
    "    name=model_name,\n",
    "    version=model_version,\n",
    "    stage=new_stage,\n",
    "    archive_existing_versions=False\n",
    ")\n",
    "\n",
    "date = datetime.today().date()\n",
    "client.update_model_version(\n",
    "    name=model_name,\n",
    "    version=model_version,\n",
    "    description=f\"The model version {model_version} was transitioned to {new_stage} on {date}\"\n",
    ")"
   ]
  }
 ],
 "metadata": {
  "kernelspec": {
   "display_name": ".venv",
   "language": "python",
   "name": "python3"
  },
  "language_info": {
   "codemirror_mode": {
    "name": "ipython",
    "version": 3
   },
   "file_extension": ".py",
   "mimetype": "text/x-python",
   "name": "python",
   "nbconvert_exporter": "python",
   "pygments_lexer": "ipython3",
   "version": "3.10.13"
  }
 },
 "nbformat": 4,
 "nbformat_minor": 2
}
